{
 "cells": [
  {
   "cell_type": "code",
   "execution_count": 12,
   "metadata": {},
   "outputs": [],
   "source": [
    "from PIL import Image\n",
    "import numpy as np\n",
    "numpy.set_printoptions(threshold=sys.maxsize)\n"
   ]
  },
  {
   "cell_type": "code",
   "execution_count": 14,
   "metadata": {},
   "outputs": [],
   "source": [
    "def rgb_to_hex(rgb):\n",
    "    return '%02x%02x%02x' % rgb"
   ]
  },
  {
   "cell_type": "code",
   "execution_count": 19,
   "metadata": {},
   "outputs": [
    {
     "name": "stdout",
     "output_type": "stream",
     "text": [
      "(533, 800, 3)\n"
     ]
    },
    {
     "data": {
      "text/plain": [
       "'181b10'"
      ]
     },
     "execution_count": 19,
     "metadata": {},
     "output_type": "execute_result"
    }
   ],
   "source": [
    "im = Image.open('/Users/michaelsong/Documents/GitHub/SheetDrawer/Images/cat.jpeg') # Can be many different formats.\n",
    "pix = np.asarray(im)\n",
    "\n",
    "print(pix.shape)  # Get the width and hight of the image for iterating over\n",
    "# print(pix[0])  # Get the RGBA Value of the a pixel of an image\n",
    "rgb_to_hex((pix[0][0][0], pix[0][0][1], pix[0][0][2]))"
   ]
  },
  {
   "cell_type": "code",
   "execution_count": 45,
   "metadata": {},
   "outputs": [
    {
     "name": "stdout",
     "output_type": "stream",
     "text": [
      "181b10\n",
      "(533, 800)\n",
      "181b10\n"
     ]
    }
   ],
   "source": [
    "out = np.empty((pix.shape[0], pix.shape[1]),dtype='U6')\n",
    "print(str(rgb_to_hex((pix[0][0][0], pix[0][0][1], pix[0][0][2]))))\n",
    "print(out.shape)\n",
    "for i in range(pix.shape[0]):\n",
    "    for j in range(pix.shape[1]):\n",
    "        out[i][j] = str(rgb_to_hex((pix[i][j][0], pix[i][j][1], pix[i][j][2])))\n",
    "        # print(str(rgb_to_hex((pix[i][j][0], pix[i][j][1], pix[i][j][2]))))\n",
    "print(out[0][0])\n",
    "# save to csv\n",
    "np.savetxt('/Users/michaelsong/Documents/GitHub/SheetDrawer/Images/cat.csv', out, fmt='%s', delimiter=',')"
   ]
  },
  {
   "cell_type": "code",
   "execution_count": null,
   "metadata": {},
   "outputs": [],
   "source": []
  }
 ],
 "metadata": {
  "interpreter": {
   "hash": "47065cae1920ebace9a059c93d67134c9a065e51e3ecb9809a1abf9fcf371550"
  },
  "kernelspec": {
   "display_name": "Python 3.9.7 ('base')",
   "name": "python3"
  },
  "language_info": {
   "codemirror_mode": {
    "name": "ipython",
    "version": 3
   },
   "file_extension": ".py",
   "mimetype": "text/x-python",
   "name": "python",
   "nbconvert_exporter": "python",
   "pygments_lexer": "ipython3",
   "version": "3.9.7"
  },
  "orig_nbformat": 4
 },
 "nbformat": 4,
 "nbformat_minor": 2
}
